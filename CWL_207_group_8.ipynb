{
  "nbformat": 4,
  "nbformat_minor": 0,
  "metadata": {
    "colab": {
      "provenance": [],
      "toc_visible": true,
      "include_colab_link": true
    },
    "kernelspec": {
      "name": "python3",
      "display_name": "Python 3"
    },
    "language_info": {
      "name": "python"
    }
  },
  "cells": [
    {
      "cell_type": "markdown",
      "metadata": {
        "id": "view-in-github",
        "colab_type": "text"
      },
      "source": [
        "<a href=\"https://colab.research.google.com/github/Ekansh27/Ekansh27/blob/main/CWL_207_group_8.ipynb\" target=\"_parent\"><img src=\"https://colab.research.google.com/assets/colab-badge.svg\" alt=\"Open In Colab\"/></a>"
      ]
    },
    {
      "cell_type": "code",
      "execution_count": null,
      "metadata": {
        "colab": {
          "base_uri": "https://localhost:8080/"
        },
        "id": "NTx2iI60zwmh",
        "outputId": "fd7951c4-e217-475b-e5f2-efaea3db4523"
      },
      "outputs": [
        {
          "output_type": "stream",
          "name": "stdout",
          "text": [
            "Collecting IMDbPY\n",
            "  Downloading IMDbPY-2022.7.9-py3-none-any.whl.metadata (498 bytes)\n",
            "Collecting cinemagoer (from IMDbPY)\n",
            "  Downloading cinemagoer-2023.5.1-py3-none-any.whl.metadata (2.9 kB)\n",
            "Requirement already satisfied: SQLAlchemy in /usr/local/lib/python3.11/dist-packages (from cinemagoer->IMDbPY) (2.0.40)\n",
            "Requirement already satisfied: lxml in /usr/local/lib/python3.11/dist-packages (from cinemagoer->IMDbPY) (5.4.0)\n",
            "Requirement already satisfied: greenlet>=1 in /usr/local/lib/python3.11/dist-packages (from SQLAlchemy->cinemagoer->IMDbPY) (3.2.1)\n",
            "Requirement already satisfied: typing-extensions>=4.6.0 in /usr/local/lib/python3.11/dist-packages (from SQLAlchemy->cinemagoer->IMDbPY) (4.13.2)\n",
            "Downloading IMDbPY-2022.7.9-py3-none-any.whl (1.2 kB)\n",
            "Downloading cinemagoer-2023.5.1-py3-none-any.whl (297 kB)\n",
            "\u001b[2K   \u001b[90m━━━━━━━━━━━━━━━━━━━━━━━━━━━━━━━━━━━━━━━━\u001b[0m \u001b[32m297.2/297.2 kB\u001b[0m \u001b[31m5.3 MB/s\u001b[0m eta \u001b[36m0:00:00\u001b[0m\n",
            "\u001b[?25hInstalling collected packages: cinemagoer, IMDbPY\n",
            "Successfully installed IMDbPY-2022.7.9 cinemagoer-2023.5.1\n"
          ]
        }
      ],
      "source": [
        "!pip install IMDbPY\n",
        "import pandas as pd"
      ]
    },
    {
      "cell_type": "code",
      "source": [
        "from imdb import IMDb"
      ],
      "metadata": {
        "id": "Ak4ve8au1CmX"
      },
      "execution_count": null,
      "outputs": []
    },
    {
      "cell_type": "code",
      "source": [
        "import pandas as pd\n",
        "\n",
        "akas_url = 'https://datasets.imdbws.com/title.akas.tsv.gz'\n",
        "\n",
        "filtered_movies = []\n",
        "\n",
        "print(\"🔎 Filtering movies by region (BD, LK, PK)...\")\n",
        "\n",
        "for chunk in pd.read_csv(akas_url, compression='gzip', sep='\\t', low_memory=False, chunksize=50000):\n",
        "    matched = chunk[chunk['region'].isin(['BD', 'LK', 'PK'])][['titleId', 'region']]\n",
        "    filtered_movies.append(matched)\n",
        "\n",
        "filtered_movies_df = pd.concat(filtered_movies, ignore_index=True)\n",
        "\n",
        "print(f\"✅ Step 1 Complete: Found {len(filtered_movies_df)} movie-region pairs linked to BD, LK, PK.\")\n"
      ],
      "metadata": {
        "colab": {
          "base_uri": "https://localhost:8080/"
        },
        "id": "a6Q-brDa1C0d",
        "outputId": "2a5b1cfe-9328-45d5-d16f-7b37534a22d3"
      },
      "execution_count": null,
      "outputs": [
        {
          "output_type": "stream",
          "name": "stdout",
          "text": [
            "🔎 Filtering movies by region (BD, LK, PK)...\n",
            "✅ Step 1 Complete: Found 13711 movie-region pairs linked to BD, LK, PK.\n"
          ]
        }
      ]
    },
    {
      "cell_type": "code",
      "source": [
        "filtered_movies_df.to_csv('filtered_movies_with_region.csv', index=False)\n",
        "\n",
        "print(\"✅ Step 2 Complete: Saved filtered_movies_with_region.csv.\")"
      ],
      "metadata": {
        "id": "zlal9HKS-Gib",
        "colab": {
          "base_uri": "https://localhost:8080/"
        },
        "outputId": "2657f5b3-ec16-4f5b-a8bf-667499f4ae27"
      },
      "execution_count": null,
      "outputs": [
        {
          "output_type": "stream",
          "name": "stdout",
          "text": [
            "✅ Step 2 Complete: Saved filtered_movies_with_region.csv.\n"
          ]
        }
      ]
    },
    {
      "cell_type": "code",
      "source": [
        "basics_url = 'https://datasets.imdbws.com/title.basics.tsv.gz'\n",
        "\n",
        "movies_metadata = []\n",
        "\n",
        "unique_movie_ids = filtered_movies_df['titleId'].unique()\n",
        "\n",
        "print(\"🔗 Joining title.basics with our movie IDs...\")\n",
        "\n",
        "for chunk in pd.read_csv(basics_url, compression='gzip', sep='\\t', low_memory=False, chunksize=50000):\n",
        "    matched = chunk[chunk['tconst'].isin(unique_movie_ids)]\n",
        "    matched = matched[matched['titleType'] == 'movie']\n",
        "    movies_metadata.append(matched)\n",
        "\n",
        "movies_basics_df = pd.concat(movies_metadata, ignore_index=True)\n",
        "\n",
        "print(f\"✅ Step 3 Complete: Got metadata for {len(movies_basics_df)} movies.\")"
      ],
      "metadata": {
        "id": "roEHWTc3-KwO",
        "colab": {
          "base_uri": "https://localhost:8080/"
        },
        "outputId": "850579a3-d4eb-4d64-9089-8e78682c37c6"
      },
      "execution_count": null,
      "outputs": [
        {
          "output_type": "stream",
          "name": "stdout",
          "text": [
            "🔗 Joining title.basics with our movie IDs...\n",
            "✅ Step 3 Complete: Got metadata for 6183 movies.\n"
          ]
        }
      ]
    },
    {
      "cell_type": "code",
      "source": [
        "final_df = pd.merge(filtered_movies_df, movies_basics_df, left_on='titleId', right_on='tconst')\n",
        "\n",
        "final_df.to_csv('final_movies_with_region_metadata.csv', index=False)\n",
        "\n",
        "print(\"✅ Step 4 Complete: Saved final_movies_with_region_metadata.csv with reglion info attached.\")"
      ],
      "metadata": {
        "id": "Cc3KeExL-LI8"
      },
      "execution_count": null,
      "outputs": []
    }
  ]
}